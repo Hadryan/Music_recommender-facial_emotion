{
  "nbformat": 4,
  "nbformat_minor": 0,
  "metadata": {
    "colab": {
      "name": "Facial emotion classification.ipynb",
      "provenance": [],
      "collapsed_sections": []
    },
    "kernelspec": {
      "name": "python3",
      "display_name": "Python 3"
    },
    "language_info": {
      "name": "python"
    },
    "accelerator": "GPU"
  },
  "cells": [
    {
      "cell_type": "code",
      "execution_count": null,
      "metadata": {
        "id": "fjgkCcqKv6WT"
      },
      "outputs": [],
      "source": [
        "import numpy as np\n",
        "import cv2\n",
        "import matplotlib.pyplot as plt\n",
        "from tensorflow.keras.models import Sequential\n",
        "from tensorflow.keras.layers import Dense, Dropout, Flatten, MaxPooling2D, Conv2D\n",
        "from tensorflow.keras.preprocessing.image import ImageDataGenerator\n",
        "from tensorflow.keras.callbacks import EarlyStopping, ModelCheckpoint"
      ]
    },
    {
      "cell_type": "code",
      "source": [
        "from google.colab import drive\n",
        "drive.mount('/content/drive')\n",
        "\n",
        "train_path = '/content/drive/My Drive/Machine learning project/Facial emotion recognition/Dataset/Training/'\n",
        "val_path = '/content/drive/My Drive/Machine learning project/Facial emotion recognition/Dataset/Testing/'\n",
        "result_path = '/content/drive/My Drive/Machine learning project/Facial emotion recognition/Result'"
      ],
      "metadata": {
        "id": "ZDWKHXeJ2t12",
        "colab": {
          "base_uri": "https://localhost:8080/"
        },
        "outputId": "8fa14843-0d7f-45be-b50b-605af08b61f8"
      },
      "execution_count": null,
      "outputs": [
        {
          "output_type": "stream",
          "name": "stdout",
          "text": [
            "Mounted at /content/drive\n"
          ]
        }
      ]
    },
    {
      "cell_type": "code",
      "source": [
        "from google.colab.patches import cv2_imshow\n",
        "import os\n",
        "def display_example(img_path, label):\n",
        "  image = cv2.imread(img_path)\n",
        "  cv2_imshow(image)\n",
        "  print(\"Label: \", label)"
      ],
      "metadata": {
        "id": "4o40wNY4m7hH"
      },
      "execution_count": null,
      "outputs": []
    },
    {
      "cell_type": "code",
      "source": [
        "emotions = ['Suprise', 'Sad', 'Neutral', 'Happy', 'Fear', 'Angry']\n",
        "for emotion in emotions:\n",
        "  display_example(val_path + emotion + '/' + emotion + '.jpg', emotion)\n",
        "  print('----------------')"
      ],
      "metadata": {
        "colab": {
          "base_uri": "https://localhost:8080/",
          "height": 514
        },
        "id": "2d3Bn_QBt5fT",
        "outputId": "a65b3c44-5140-48f0-e70f-4df903a56ccf"
      },
      "execution_count": null,
      "outputs": [
        {
          "output_type": "display_data",
          "data": {
            "image/png": "[encoded data removed]",
            "text/plain": [
              "<PIL.Image.Image image mode=RGB size=48x48 at 0x7FBC4369B9D0>"
            ]
          },
          "metadata": {}
        },
        {
          "output_type": "stream",
          "name": "stdout",
          "text": [
            "Label:  Suprise\n",
            "----------------\n"
          ]
        },
        {
          "output_type": "display_data",
          "data": {
            "image/png": "[encoded data removed]",
            "text/plain": [
              "<PIL.Image.Image image mode=RGB size=48x48 at 0x7FBC452EF210>"
            ]
          },
          "metadata": {}
        },
        {
          "output_type": "stream",
          "name": "stdout",
          "text": [
            "Label:  Sad\n",
            "----------------\n"
          ]
        },
        {
          "output_type": "display_data",
          "data": {
            "image/png": "[encoded data removed]",
            "text/plain": [
              "<PIL.Image.Image image mode=RGB size=48x48 at 0x7FBC45305490>"
            ]
          },
          "metadata": {}
        },
        {
          "output_type": "stream",
          "name": "stdout",
          "text": [
            "Label:  Neutral\n",
            "----------------\n"
          ]
        },
        {
          "output_type": "display_data",
          "data": {
            "image/png": "[encoded data removed]",
            "text/plain": [
              "<PIL.Image.Image image mode=RGB size=48x48 at 0x7FBC45305CD0>"
            ]
          },
          "metadata": {}
        },
        {
          "output_type": "stream",
          "name": "stdout",
          "text": [
            "Label:  Happy\n",
            "----------------\n"
          ]
        },
        {
          "output_type": "display_data",
          "data": {
            "image/png": "[encoded data removed]",
            "text/plain": [
              "<PIL.Image.Image image mode=RGB size=48x48 at 0x7FBC4232E210>"
            ]
          },
          "metadata": {}
        },
        {
          "output_type": "stream",
          "name": "stdout",
          "text": [
            "Label:  Fear\n",
            "----------------\n"
          ]
        },
        {
          "output_type": "display_data",
          "data": {
            "image/png": "[encoded data removed]",
            "text/plain": [
              "<PIL.Image.Image image mode=RGB size=48x48 at 0x7FBC4369B9D0>"
            ]
          },
          "metadata": {}
        },
        {
          "output_type": "stream",
          "name": "stdout",
          "text": [
            "Label:  Angry\n",
            "----------------\n"
          ]
        }
      ]
    },
    {
      "cell_type": "code",
      "source": [
        "train_gen = ImageDataGenerator(rescale=1./255, \n",
        "                               horizontal_flip = True,\n",
        "                               rotation_range=10)\n",
        "val_gen = ImageDataGenerator(rescale = 1./255)\n",
        "train_generator = train_gen.flow_from_directory(train_path, \n",
        "                                                target_size = (48,48),\n",
        "                                                class_mode = 'categorical',\n",
        "                                                color_mode = 'grayscale')\n",
        "val_generator = val_gen.flow_from_directory(val_path, \n",
        "                                            target_size = (48,48),\n",
        "                                            class_mode = 'categorical',\n",
        "                                            color_mode = 'grayscale')"
      ],
      "metadata": {
        "colab": {
          "base_uri": "https://localhost:8080/"
        },
        "id": "JiwDP7Pf-iSf",
        "outputId": "3bae3505-a64a-447a-d108-2b8257bac37e"
      },
      "execution_count": null,
      "outputs": [
        {
          "output_type": "stream",
          "name": "stdout",
          "text": [
            "Found 28291 images belonging to 6 classes.\n",
            "Found 7067 images belonging to 6 classes.\n"
          ]
        }
      ]
    },
    {
      "cell_type": "code",
      "source": [
        "def display_model_history(hist):\n",
        "  fig, axs = plt.subplots(1,2,figsize=(15,5))\n",
        "  #Accuracy subplot\n",
        "  axs[0].plot(range(1, len(hist.history['accuracy'])+1), hist.history['accuracy'])\n",
        "  axs[0].plot(range(1, len(hist.history['val_accuracy'])+1), hist.history['val_accuracy'])\n",
        "  axs[0].set_title('Model Accuracy')\n",
        "  axs[0].set_xlabel('Epoch')\n",
        "  axs[0].set_ylabel('Accuracy')\n",
        "  axs[0].legend(['Train', 'Test'], loc='best')\n",
        "  #Loss subplot\n",
        "  axs[1].plot(range(1, len(hist.history['loss'])+1), hist.history['loss'])\n",
        "  axs[1].plot(range(1, len(hist.history['val_loss'])+1), hist.history['val_loss'])\n",
        "  axs[1].set_title('Model Loss')\n",
        "  axs[1].set_xlabel('Epoch')\n",
        "  axs[1].set_ylabel('Loss')\n",
        "  axs[1].legend(['Train', 'Test'], loc='best')\n",
        "  fig.savefig('plot.png')\n",
        "  plt.show()"
      ],
      "metadata": {
        "id": "Cwfstyn_FnBU"
      },
      "execution_count": null,
      "outputs": []
    },
    {
      "cell_type": "code",
      "source": [
        "#Construct CNN model\n",
        "model = Sequential()\n",
        "model.add(Conv2D(32, kernel_size=(3, 3), activation='relu', input_shape=(48,48,1)))\n",
        "model.add(Conv2D(64, kernel_size=(3, 3), activation='relu'))\n",
        "model.add(MaxPooling2D(pool_size=(2, 2)))\n",
        "model.add(Dropout(0.25))\n",
        "\n",
        "model.add(Conv2D(128, kernel_size=(3, 3), activation='relu'))\n",
        "model.add(MaxPooling2D(pool_size=(2, 2)))\n",
        "model.add(Conv2D(128, kernel_size=(3, 3), activation='relu'))\n",
        "model.add(MaxPooling2D(pool_size=(2, 2)))\n",
        "model.add(Dropout(0.25))\n",
        "\n",
        "model.add(Flatten())\n",
        "model.add(Dense(1024, activation='relu'))\n",
        "model.add(Dropout(0.5))\n",
        "model.add(Dense(6, activation='softmax'))\n",
        "model.compile(optimizer='adam', loss='categorical_crossentropy', metrics='accuracy')\n",
        "model.summary()"
      ],
      "metadata": {
        "colab": {
          "base_uri": "https://localhost:8080/"
        },
        "id": "YataNsbTJROY",
        "outputId": "c7350ee5-ba97-47f8-f1f8-530797b5a35e"
      },
      "execution_count": null,
      "outputs": [
        {
          "output_type": "stream",
          "name": "stdout",
          "text": [
            "Model: \"sequential_2\"\n",
            "_________________________________________________________________\n",
            " Layer (type)                Output Shape              Param #   \n",
            "=================================================================\n",
            " conv2d_8 (Conv2D)           (None, 46, 46, 32)        320       \n",
            "                                                                 \n",
            " conv2d_9 (Conv2D)           (None, 44, 44, 64)        18496     \n",
            "                                                                 \n",
            " max_pooling2d_6 (MaxPooling  (None, 22, 22, 64)       0         \n",
            " 2D)                                                             \n",
            "                                                                 \n",
            " dropout_6 (Dropout)         (None, 22, 22, 64)        0         \n",
            "                                                                 \n",
            " conv2d_10 (Conv2D)          (None, 20, 20, 128)       73856     \n",
            "                                                                 \n",
            " max_pooling2d_7 (MaxPooling  (None, 10, 10, 128)      0         \n",
            " 2D)                                                             \n",
            "                                                                 \n",
            " conv2d_11 (Conv2D)          (None, 8, 8, 128)         147584    \n",
            "                                                                 \n",
            " max_pooling2d_8 (MaxPooling  (None, 4, 4, 128)        0         \n",
            " 2D)                                                             \n",
            "                                                                 \n",
            " dropout_7 (Dropout)         (None, 4, 4, 128)         0         \n",
            "                                                                 \n",
            " flatten_2 (Flatten)         (None, 2048)              0         \n",
            "                                                                 \n",
            " dense_4 (Dense)             (None, 1024)              2098176   \n",
            "                                                                 \n",
            " dropout_8 (Dropout)         (None, 1024)              0         \n",
            "                                                                 \n",
            " dense_5 (Dense)             (None, 6)                 6150      \n",
            "                                                                 \n",
            "=================================================================\n",
            "Total params: 2,344,582\n",
            "Trainable params: 2,344,582\n",
            "Non-trainable params: 0\n",
            "_________________________________________________________________\n"
          ]
        }
      ]
    },
    {
      "cell_type": "code",
      "source": [
        "#Define callbacks\n",
        "early_stop = EarlyStopping(monitor='val_loss', patience=50)\n",
        "callbacks = [early_stop]\n"
      ],
      "metadata": {
        "id": "LKz1MThxLQlR"
      },
      "execution_count": null,
      "outputs": []
    },
    {
      "cell_type": "code",
      "source": [
        "num_epochs = 50\n",
        "batch_size = 32\n",
        "img_size = 48\n",
        "num_train = 28291\n",
        "num_val = 7067 \n",
        "\n",
        "model_history = model.fit_generator(\n",
        "    train_generator,\n",
        "    epochs = num_epochs,\n",
        "    steps_per_epoch = num_train // batch_size,\n",
        "    verbose = 1,\n",
        "    validation_data = val_generator,\n",
        "    callbacks = callbacks\n",
        ")\n"
      ],
      "metadata": {
        "id": "-1lIkWT0zzIX",
        "colab": {
          "base_uri": "https://localhost:8080/"
        },
        "outputId": "54329d49-d1e1-4801-e982-0c283ecc7b0a"
      },
      "execution_count": null,
      "outputs": [
        {
          "output_type": "stream",
          "name": "stderr",
          "text": [
            "/usr/local/lib/python3.7/dist-packages/ipykernel_launcher.py:13: UserWarning: `Model.fit_generator` is deprecated and will be removed in a future version. Please use `Model.fit`, which supports generators.\n",
            "  del sys.path[0]\n"
          ]
        },
        {
          "output_type": "stream",
          "name": "stdout",
          "text": [
            "Epoch 1/50\n",
            "884/884 [==============================] - 6095s 7s/step - loss: 1.6717 - accuracy: 0.3020 - val_loss: 1.5081 - val_accuracy: 0.3843\n",
            "Epoch 2/50\n",
            "884/884 [==============================] - 100s 113ms/step - loss: 1.4819 - accuracy: 0.4043 - val_loss: 1.3574 - val_accuracy: 0.4754\n",
            "Epoch 3/50\n",
            "884/884 [==============================] - 100s 113ms/step - loss: 1.3754 - accuracy: 0.4548 - val_loss: 1.2722 - val_accuracy: 0.4979\n",
            "Epoch 4/50\n",
            "884/884 [==============================] - 100s 113ms/step - loss: 1.3068 - accuracy: 0.4846 - val_loss: 1.2310 - val_accuracy: 0.5214\n",
            "Epoch 5/50\n",
            "884/884 [==============================] - 100s 113ms/step - loss: 1.2682 - accuracy: 0.5025 - val_loss: 1.2094 - val_accuracy: 0.5288\n",
            "Epoch 6/50\n",
            "884/884 [==============================] - 100s 113ms/step - loss: 1.2389 - accuracy: 0.5177 - val_loss: 1.1631 - val_accuracy: 0.5393\n",
            "Epoch 7/50\n",
            "884/884 [==============================] - 101s 114ms/step - loss: 1.2137 - accuracy: 0.5273 - val_loss: 1.1351 - val_accuracy: 0.5635\n",
            "Epoch 8/50\n",
            "884/884 [==============================] - 100s 113ms/step - loss: 1.1927 - accuracy: 0.5378 - val_loss: 1.1177 - val_accuracy: 0.5609\n",
            "Epoch 9/50\n",
            "884/884 [==============================] - 99s 112ms/step - loss: 1.1829 - accuracy: 0.5424 - val_loss: 1.1170 - val_accuracy: 0.5647\n",
            "Epoch 10/50\n",
            "884/884 [==============================] - 98s 111ms/step - loss: 1.1677 - accuracy: 0.5476 - val_loss: 1.1084 - val_accuracy: 0.5663\n",
            "Epoch 11/50\n",
            "884/884 [==============================] - 97s 110ms/step - loss: 1.1614 - accuracy: 0.5476 - val_loss: 1.0962 - val_accuracy: 0.5744\n",
            "Epoch 12/50\n",
            "884/884 [==============================] - 98s 110ms/step - loss: 1.1471 - accuracy: 0.5536 - val_loss: 1.1017 - val_accuracy: 0.5703\n",
            "Epoch 13/50\n",
            "884/884 [==============================] - 99s 112ms/step - loss: 1.1305 - accuracy: 0.5615 - val_loss: 1.0760 - val_accuracy: 0.5831\n",
            "Epoch 14/50\n",
            "884/884 [==============================] - 98s 111ms/step - loss: 1.1305 - accuracy: 0.5636 - val_loss: 1.0775 - val_accuracy: 0.5882\n",
            "Epoch 15/50\n",
            "884/884 [==============================] - 98s 111ms/step - loss: 1.1154 - accuracy: 0.5684 - val_loss: 1.0570 - val_accuracy: 0.5950\n",
            "Epoch 16/50\n",
            "884/884 [==============================] - 99s 111ms/step - loss: 1.1101 - accuracy: 0.5690 - val_loss: 1.0604 - val_accuracy: 0.5960\n",
            "Epoch 17/50\n",
            "884/884 [==============================] - 100s 113ms/step - loss: 1.1041 - accuracy: 0.5734 - val_loss: 1.0534 - val_accuracy: 0.5929\n",
            "Epoch 18/50\n",
            "884/884 [==============================] - 97s 110ms/step - loss: 1.0967 - accuracy: 0.5770 - val_loss: 1.0650 - val_accuracy: 0.5878\n",
            "Epoch 19/50\n",
            "884/884 [==============================] - 96s 109ms/step - loss: 1.0911 - accuracy: 0.5791 - val_loss: 1.0481 - val_accuracy: 0.5947\n",
            "Epoch 20/50\n",
            "884/884 [==============================] - 95s 108ms/step - loss: 1.0854 - accuracy: 0.5821 - val_loss: 1.0452 - val_accuracy: 0.5973\n",
            "Epoch 21/50\n",
            "884/884 [==============================] - 96s 109ms/step - loss: 1.0752 - accuracy: 0.5834 - val_loss: 1.0356 - val_accuracy: 0.5988\n",
            "Epoch 22/50\n",
            "884/884 [==============================] - 95s 108ms/step - loss: 1.0809 - accuracy: 0.5811 - val_loss: 1.0432 - val_accuracy: 0.5993\n",
            "Epoch 23/50\n",
            "884/884 [==============================] - 96s 109ms/step - loss: 1.0675 - accuracy: 0.5879 - val_loss: 1.0287 - val_accuracy: 0.6027\n",
            "Epoch 24/50\n",
            "884/884 [==============================] - 95s 108ms/step - loss: 1.0661 - accuracy: 0.5909 - val_loss: 1.0287 - val_accuracy: 0.6065\n",
            "Epoch 25/50\n",
            "884/884 [==============================] - 95s 108ms/step - loss: 1.0566 - accuracy: 0.5935 - val_loss: 1.0324 - val_accuracy: 0.6018\n",
            "Epoch 26/50\n",
            "884/884 [==============================] - 96s 109ms/step - loss: 1.0542 - accuracy: 0.5955 - val_loss: 1.0392 - val_accuracy: 0.6025\n",
            "Epoch 27/50\n",
            "884/884 [==============================] - 96s 108ms/step - loss: 1.0467 - accuracy: 0.5965 - val_loss: 1.0321 - val_accuracy: 0.6053\n",
            "Epoch 28/50\n",
            "884/884 [==============================] - 95s 107ms/step - loss: 1.0443 - accuracy: 0.5966 - val_loss: 1.0305 - val_accuracy: 0.6018\n",
            "Epoch 29/50\n",
            "884/884 [==============================] - 96s 108ms/step - loss: 1.0387 - accuracy: 0.6008 - val_loss: 1.0158 - val_accuracy: 0.6160\n",
            "Epoch 30/50\n",
            "884/884 [==============================] - 98s 111ms/step - loss: 1.0311 - accuracy: 0.6027 - val_loss: 1.0386 - val_accuracy: 0.5980\n",
            "Epoch 31/50\n",
            "884/884 [==============================] - 96s 109ms/step - loss: 1.0305 - accuracy: 0.6043 - val_loss: 1.0309 - val_accuracy: 0.6117\n",
            "Epoch 32/50\n",
            "884/884 [==============================] - 96s 108ms/step - loss: 1.0224 - accuracy: 0.6069 - val_loss: 1.0195 - val_accuracy: 0.6093\n",
            "Epoch 33/50\n",
            "884/884 [==============================] - 96s 109ms/step - loss: 1.0293 - accuracy: 0.6072 - val_loss: 1.0200 - val_accuracy: 0.6069\n",
            "Epoch 34/50\n",
            "884/884 [==============================] - 97s 109ms/step - loss: 1.0245 - accuracy: 0.6066 - val_loss: 1.0397 - val_accuracy: 0.6031\n",
            "Epoch 35/50\n",
            "884/884 [==============================] - 96s 109ms/step - loss: 1.0126 - accuracy: 0.6093 - val_loss: 1.0272 - val_accuracy: 0.6095\n",
            "Epoch 36/50\n",
            "884/884 [==============================] - 96s 109ms/step - loss: 1.0190 - accuracy: 0.6077 - val_loss: 1.0178 - val_accuracy: 0.6145\n",
            "Epoch 37/50\n",
            "884/884 [==============================] - 95s 108ms/step - loss: 1.0108 - accuracy: 0.6111 - val_loss: 1.0307 - val_accuracy: 0.6056\n",
            "Epoch 38/50\n",
            "884/884 [==============================] - 96s 108ms/step - loss: 1.0096 - accuracy: 0.6129 - val_loss: 1.0081 - val_accuracy: 0.6194\n",
            "Epoch 39/50\n",
            "884/884 [==============================] - 99s 112ms/step - loss: 1.0051 - accuracy: 0.6146 - val_loss: 1.0111 - val_accuracy: 0.6134\n",
            "Epoch 40/50\n",
            "884/884 [==============================] - 98s 111ms/step - loss: 1.0017 - accuracy: 0.6161 - val_loss: 1.0130 - val_accuracy: 0.6099\n",
            "Epoch 41/50\n",
            "884/884 [==============================] - 96s 109ms/step - loss: 0.9951 - accuracy: 0.6182 - val_loss: 1.0124 - val_accuracy: 0.6168\n",
            "Epoch 42/50\n",
            "884/884 [==============================] - 97s 110ms/step - loss: 0.9926 - accuracy: 0.6209 - val_loss: 1.0171 - val_accuracy: 0.6097\n",
            "Epoch 43/50\n",
            "884/884 [==============================] - 98s 111ms/step - loss: 0.9898 - accuracy: 0.6197 - val_loss: 1.0090 - val_accuracy: 0.6141\n",
            "Epoch 44/50\n",
            "884/884 [==============================] - 99s 112ms/step - loss: 0.9937 - accuracy: 0.6194 - val_loss: 1.0076 - val_accuracy: 0.6179\n",
            "Epoch 45/50\n",
            "884/884 [==============================] - 99s 112ms/step - loss: 0.9875 - accuracy: 0.6204 - val_loss: 1.0238 - val_accuracy: 0.6078\n",
            "Epoch 46/50\n",
            "884/884 [==============================] - 99s 112ms/step - loss: 0.9762 - accuracy: 0.6250 - val_loss: 1.0178 - val_accuracy: 0.6151\n",
            "Epoch 47/50\n",
            "884/884 [==============================] - 99s 112ms/step - loss: 0.9901 - accuracy: 0.6220 - val_loss: 1.0024 - val_accuracy: 0.6280\n",
            "Epoch 48/50\n",
            "884/884 [==============================] - 102s 115ms/step - loss: 0.9727 - accuracy: 0.6280 - val_loss: 1.0098 - val_accuracy: 0.6236\n",
            "Epoch 49/50\n",
            "884/884 [==============================] - 101s 114ms/step - loss: 0.9741 - accuracy: 0.6289 - val_loss: 1.0006 - val_accuracy: 0.6216\n",
            "Epoch 50/50\n",
            "884/884 [==============================] - 103s 116ms/step - loss: 0.9728 - accuracy: 0.6283 - val_loss: 1.0138 - val_accuracy: 0.6192\n"
          ]
        }
      ]
    },
    {
      "cell_type": "code",
      "source": [
        "display_model_history(model_history)"
      ],
      "metadata": {
        "colab": {
          "base_uri": "https://localhost:8080/",
          "height": 350
        },
        "id": "gjqsfuFDLzmy",
        "outputId": "69d57f33-4bf9-443a-8f81-7e12ead81cbd"
      },
      "execution_count": null,
      "outputs": [
        {
          "output_type": "display_data",
          "data": {
            "image/png": "[encoded data removed]",
            "text/plain": [
              "<Figure size 1080x360 with 2 Axes>"
            ]
          },
          "metadata": {
            "needs_background": "light"
          }
        }
      ]
    },
    {
      "cell_type": "code",
      "source": [
        "model.save_weights('model_accuracy_62,1%.h5')\n",
        "model_json = model.to_json()\n",
        "with open(\"model_accuracy_62,1%.json\", \"w\") as json_file:\n",
        "  json_file.write(model_json)"
      ],
      "metadata": {
        "id": "ktEotE5q7UeB"
      },
      "execution_count": null,
      "outputs": []
    },
    {
      "cell_type": "code",
      "source": [
        ""
      ],
      "metadata": {
        "id": "qmr1MxID7qMR"
      },
      "execution_count": null,
      "outputs": []
    }
  ]
}